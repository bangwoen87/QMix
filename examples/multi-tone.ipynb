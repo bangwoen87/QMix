{
 "cells": [
  {
   "cell_type": "markdown",
   "metadata": {},
   "source": [
    "# Simulating an SIS mixer\n",
    "\n",
    "- This is a multi-tone simultion (i.e., heterodyne mixing)\n",
    "    - The input consists of 3 signals\n",
    "        - a strong local-osciallator at 230 GHz\n",
    "        - a weak RF signal at 232 GHz \n",
    "        - an IF signal\n",
    "    - The embedding circuit is included\n",
    "    - The response function is generated from an experimental I-V curve\n",
    "\n",
    "- This simulation calculates:\n",
    "    - The pumped I-V curve\n",
    "    - The mixer's gain"
   ]
  },
  {
   "cell_type": "code",
   "execution_count": 1,
   "metadata": {},
   "outputs": [],
   "source": [
    "%matplotlib inline\n",
    "\n",
    "import qmix\n",
    "import numpy as np\n",
    "import scipy.constants as sc \n",
    "import matplotlib.pyplot as plt\n",
    "\n",
    "import qmix.misc.terminal\n",
    "from qmix.misc.terminal import cprint\n",
    "from qmix.mathfn.misc import slope"
   ]
  },
  {
   "cell_type": "markdown",
   "metadata": {},
   "source": [
    "## Define junction properties\n",
    "- These are common parameters that describe the electrical properties of SIS junctions"
   ]
  },
  {
   "cell_type": "code",
   "execution_count": 2,
   "metadata": {},
   "outputs": [],
   "source": [
    "vgap = 2.7e-3              # gap voltage in [V]\n",
    "rn = 13.5                  # normal resistance in [ohms]\n",
    "igap = vgap / rn           # gap current in [A]\n",
    "fgap = sc.e * vgap / sc.h  # gap frequency in [Hz]"
   ]
  },
  {
   "cell_type": "markdown",
   "metadata": {},
   "source": [
    "## Define embedding circuit\n",
    "- The ``EmbeddingCircuit`` class contains all of the information about the embedding circuit. This includes the Thevenin voltage, the Thevening impedance, and the frequency.\n",
    "- Note: \n",
    "   - All of the circuit properties are normalized: \n",
    "      - voltages are normalized to the gap voltage (``vgap``), \n",
    "      - resistances to the normal resistance (``rn``), \n",
    "      - currents to the gap current (``igap = vgap / rn``), and \n",
    "      - frequencies to the gap frequency (``fgap``).\n",
    "   - This example includes the embedding circuit. Each tone/harmonic requires:\n",
    "      - the embedding voltage (normalized to ``vgap``)\n",
    "      - the embedding impedance (normalized to ``rn``)\n",
    "      - the frequency of the fundamental (normalized to ``fgap``)"
   ]
  },
  {
   "cell_type": "code",
   "execution_count": 3,
   "metadata": {},
   "outputs": [
    {
     "name": "stdout",
     "output_type": "stream",
     "text": [
      "Embedding circuit (NF:3, NP:1): \n",
      "\u001b[92m   f=1, p=1\t\t\t230.0 GHz x 1\t\tLO\u001b[0m\n",
      "\tThev. voltage:\t\t0.4228 * Vgap\n",
      "\t              \t\t1.2000 * Vph\n",
      "\tThev. impedance:\t0.30-0.30j * Rn\n",
      "\tAvail. power:   \t4.02E-08 W\n",
      "\t                \t-43.956 dBm\n",
      "\u001b[92m   f=2, p=1\t\t\t232.0 GHz x 1\t\tUSB\u001b[0m\n",
      "\tThev. voltage:\t\t0.0043 * Vgap\n",
      "\t              \t\t0.0120 * Vph\n",
      "\tThev. impedance:\t0.30-0.30j * Rn\n",
      "\tAvail. power:   \t4.09E-12 W\n",
      "\t                \t-83.881 dBm\n",
      "\u001b[92m   f=3, p=1\t\t\t2.0 GHz x 1\t\tIF\u001b[0m\n",
      "\tThev. voltage:\t\t0.0000 * Vgap\n",
      "\t              \t\t0.0000 * Vph\n",
      "\tThev. impedance:\t1.00+0.00j * Rn\n",
      "\tAvail. power:   \t0.00E+00 W\n",
      "\t                \t-inf dBm\n",
      "\n"
     ]
    }
   ],
   "source": [
    "# simulation parameters\n",
    "num_f = 3  # number of tones\n",
    "num_p = 1  # number of harmonics\n",
    "num_b = (10, 5, 10)  # Bessel function summations limits\n",
    "\n",
    "# the LO signal\n",
    "f_lo         = 230e9 / fgap      # frequency in [Hz]\n",
    "alpha_lo     = 1.2               # junction drive level (normalized value)\n",
    "impedance_lo = 0.3 - 0.3*1j      # embedding impedance (normalized value)\n",
    "\n",
    "# the RF signal\n",
    "f_rf         = 232e9 / fgap      # frequency in [Hz]\n",
    "alpha_rf     = 0.012             # junction drive level (normalized value)\n",
    "impedance_rf = 0.3 - 0.3*1j      # embedding impedance (normalized value)\n",
    "\n",
    "# the IF signal\n",
    "f_if         = 2e9 / fgap        # frequency in [Hz]\n",
    "impedance_if = 1.                # embedding impedance (normalized value)\n",
    "\n",
    "# build embedding circuit\n",
    "cct = qmix.circuit.EmbeddingCircuit(num_f, num_p, fgap=fgap, vgap=vgap, rn=rn, vb_max=1.5)\n",
    "cct.comment[1][1] = 'LO'\n",
    "cct.comment[2][1] = 'USB'\n",
    "cct.comment[3][1] = 'IF'\n",
    "cct.vph[1] = f_lo\n",
    "cct.vph[2] = f_rf\n",
    "cct.vph[3] = f_if\n",
    "cct.vt[1, 1] = cct.vph[1] * alpha_lo\n",
    "cct.vt[2, 1] = cct.vph[2] * alpha_rf\n",
    "cct.vt[3, 1] = 0.\n",
    "cct.zt[1, 1] = impedance_lo\n",
    "cct.zt[2, 1] = impedance_rf\n",
    "cct.zt[3, 1] = impedance_if\n",
    "\n",
    "cct.print_info()"
   ]
  },
  {
   "cell_type": "markdown",
   "metadata": {},
   "source": [
    "## Generate response function\n",
    "\n",
    "- Here, the response function is generated from experimental data"
   ]
  },
  {
   "cell_type": "code",
   "execution_count": 4,
   "metadata": {},
   "outputs": [
    {
     "name": "stdout",
     "output_type": "stream",
     "text": [
      "\u001b[35m\n",
      "DC I-V data:\u001b[0m \n",
      "\tVgap:  \t\t  2.72\tmV\n",
      "\tfgap:  \t\t658.44\tGHz\n",
      "\n",
      "\tRn:    \t\t 13.41\tohms\n",
      "\tRsg:   \t\t364.09\tohms\n",
      "\tQ:     \t\t 27.15\n",
      "\n",
      "\tJc:    \t\t 13.53\tkA/cm^2\n",
      "\tIleak: \t\t  8.70\tuA\n",
      "\n",
      "\tOffset:\t\t  0.10\tmV\n",
      "\t       \t\t  9.68\tuV\n",
      "\n",
      "\tVint:  \t\t  0.45\tmV\n",
      "\n"
     ]
    },
    {
     "data": {
      "image/png": "[encoded data removed]",
      "text/plain": [
       "<Figure size 432x288 with 1 Axes>"
      ]
     },
     "metadata": {},
     "output_type": "display_data"
    }
   ],
   "source": [
    "# Load DC I-V data\n",
    "dciv = qmix.exp.RawData0('eg-230-data/dciv.csv')\n",
    "\n",
    "# Grab response function\n",
    "resp = dciv.resp\n",
    "\n",
    "# Plot\n",
    "resp.show_current();"
   ]
  },
  {
   "cell_type": "markdown",
   "metadata": {},
   "source": [
    "## Perform harmonic balance\n",
    "\n",
    "- Calculate the voltage drop across the junction for each tone/harmonic/bias voltage using harmonic balance."
   ]
  },
  {
   "cell_type": "code",
   "execution_count": 5,
   "metadata": {},
   "outputs": [
    {
     "name": "stdout",
     "output_type": "stream",
     "text": [
      "Running harmonic balance:\n",
      " - 3 tone(s) and 1 harmonic(s)\n",
      " - 7 calls to the tunneling current function per iteration\n",
      "Estimated time:\n",
      " - time per iteration:    2.04 s /   0.03 min /  0.00 hrs\n",
      " - max time:             20.43 s /   0.34 min /  0.01 hrs\n",
      "Error after 0 iteration(s):\n",
      "\tf:1.0, p:1,   med. r.error:     0.870,   max r.error:     1.808,     0.0 % complete\n",
      "\tf:2.0, p:1,   med. r.error:     0.854,   max r.error:     1.656,     0.0 % complete\n",
      "\tf:3.0, p:1,   med. r.error: 99999.000,   max r.error: 99999.000,     0.0 % complete\n",
      "Calculating inverse Jacobian |--------------------| 100.0% Complete\n",
      "Applying correction\n",
      "Error after 1 iteration(s):\n",
      "\tf:1.0, p:1,   med. r.error:     0.014,   max r.error:     0.195,     0.0 % complete\n",
      "\tf:2.0, p:1,   med. r.error:     0.046,   max r.error:     0.361,     0.0 % complete\n",
      "\tf:3.0, p:1,   med. r.error:     0.335,   max r.error:    89.688,     0.0 % complete\n",
      "Calculating inverse Jacobian |--------------------| 100.0% Complete\n",
      "Applying correction\n",
      "Error after 2 iteration(s):\n",
      "\tf:1.0, p:1,   med. r.error:     0.000,   max r.error:     0.005,    96.5 % complete\n",
      "\tf:2.0, p:1,   med. r.error:     0.000,   max r.error:     0.017,    87.6 % complete\n",
      "\tf:3.0, p:1,   med. r.error:     0.001,   max r.error:     0.986,    51.2 % complete\n",
      "Calculating inverse Jacobian |--------------------| 100.0% Complete\n",
      "Applying correction\n",
      "Error after 3 iteration(s):\n",
      "\tf:1.0, p:1,   med. r.error:     0.000,   max r.error:     0.000,   100.0 % complete\n",
      "\tf:2.0, p:1,   med. r.error:     0.000,   max r.error:     0.000,   100.0 % complete\n",
      "\tf:3.0, p:1,   med. r.error:     0.000,   max r.error:     0.001,    99.5 % complete\n",
      "Calculating inverse Jacobian |--------------------| 100.0% Complete\n",
      "Applying correction\n",
      "Error after 4 iteration(s):\n",
      "\tf:1.0, p:1,   med. r.error:     0.000,   max r.error:     0.000,   100.0 % complete\n",
      "\tf:2.0, p:1,   med. r.error:     0.000,   max r.error:     0.000,   100.0 % complete\n",
      "\tf:3.0, p:1,   med. r.error:     0.000,   max r.error:     0.000,   100.0 % complete\n",
      "Done: Minimum error target was achieved.\n",
      " - time: 8.61 s / 0.14 min.\n",
      " - 4 iterations required\n",
      "\t- 2.15 s / iteration\n",
      "\t- 0.04 min / iteration\n"
     ]
    }
   ],
   "source": [
    "vj = qmix.harmonic_balance.harmonic_balance(cct, resp, num_b)"
   ]
  },
  {
   "cell_type": "markdown",
   "metadata": {},
   "source": [
    "## Calculate tunnelling currents\n",
    "- ``idc`` is the DC tunneling current\n",
    "- ``ilo`` is the AC tunneling current at the LO frequency\n",
    "- ``iif`` is the AC tunneling current at the IF frequency"
   ]
  },
  {
   "cell_type": "code",
   "execution_count": 6,
   "metadata": {},
   "outputs": [],
   "source": [
    "idc, ilo, iif = qmix.qtcurrent.qtcurrent_std(vj, cct, resp, num_b=num_b)"
   ]
  },
  {
   "cell_type": "markdown",
   "metadata": {},
   "source": [
    "## Plot the pumped I-V curve"
   ]
  },
  {
   "cell_type": "code",
   "execution_count": 7,
   "metadata": {},
   "outputs": [],
   "source": [
    "# Convert normalized values to given units\n",
    "vmv = vgap / sc.milli \n",
    "ima = igap / sc.milli \n",
    "iua = igap / sc.micro\n",
    "iua = igap / sc.micro"
   ]
  },
  {
   "cell_type": "code",
   "execution_count": 8,
   "metadata": {},
   "outputs": [
    {
     "data": {
      "image/png": "[encoded data removed]",
      "text/plain": [
       "<Figure size 432x288 with 1 Axes>"
      ]
     },
     "metadata": {},
     "output_type": "display_data"
    }
   ],
   "source": [
    "fig, ax1 = plt.subplots()\n",
    "\n",
    "ax1.plot(resp.voltage*vmv, resp.current*iua, label='Unpumped')\n",
    "ax1.plot(cct.vb*vmv, idc*iua, 'r', label='Pumped')\n",
    "ax1.set(xlabel='Bias Voltage (mV)', xlim=(0,4))\n",
    "ax1.set(ylabel='DC Tunnelling Current (uA)', ylim=(0,270))\n",
    "ax1.legend(frameon=False);"
   ]
  },
  {
   "cell_type": "markdown",
   "metadata": {},
   "source": [
    "### Plot gain"
   ]
  },
  {
   "cell_type": "code",
   "execution_count": 9,
   "metadata": {},
   "outputs": [],
   "source": [
    "# Available power from upper sideband (USB)\n",
    "pusb = cct.available_power(2)\n",
    "\n",
    "# Power delivered to load\n",
    "rload = cct.zt[3,1].real*rn\n",
    "pload = 0.5 * np.abs(iif*igap) ** 2 * rload\n",
    "\n",
    "# Gain\n",
    "gain = pload / pusb"
   ]
  },
  {
   "cell_type": "code",
   "execution_count": 10,
   "metadata": {},
   "outputs": [
    {
     "data": {
      "image/png": "[encoded data removed]",
      "text/plain": [
       "<Figure size 432x288 with 1 Axes>"
      ]
     },
     "metadata": {},
     "output_type": "display_data"
    }
   ],
   "source": [
    "fig, ax2 = plt.subplots()\n",
    "\n",
    "ax2.plot(cct.vb*vmv, gain*100)\n",
    "ax2.set(xlabel='Bias Voltage (mV)', xlim=(0,4))\n",
    "ax2.set(ylabel=r'Gain (%)')\n",
    "ax2.set_ylim(bottom=0);"
   ]
  }
 ],
 "metadata": {
  "kernelspec": {
   "display_name": "Python 3",
   "language": "python",
   "name": "python3"
  },
  "language_info": {
   "codemirror_mode": {
    "name": "ipython",
    "version": 3
   },
   "file_extension": ".py",
   "mimetype": "text/x-python",
   "name": "python",
   "nbconvert_exporter": "python",
   "pygments_lexer": "ipython3",
   "version": "3.6.5"
  }
 },
 "nbformat": 4,
 "nbformat_minor": 2
}
